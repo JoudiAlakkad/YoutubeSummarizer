{
 "cells": [
  {
   "cell_type": "code",
   "execution_count": 41,
   "metadata": {},
   "outputs": [],
   "source": [
    "import youtube_transcript_api\n",
    "from youtube_transcript_api import YouTubeTranscriptApi\n",
    "import nltk\n",
    "import re\n",
    "from nltk.corpus import stopwords\n",
    "import sklearn\n",
    "from sklearn.feature_extraction.text import TfidfVectorizer\n",
    "from nltk.tokenize import sent_tokenize\n",
    "#nltk.download('punkt_tab')\n",
    "import numpy as np"
   ]
  },
  {
   "cell_type": "code",
   "execution_count": 47,
   "metadata": {},
   "outputs": [],
   "source": [
    "# get the link\n",
    "link = \"https://www.youtube.com/watch?v=Y8Tko2YC5hA\" \n",
    "# get the unique ID\n",
    "unique_id = link.split(\"=\")[-1]\n",
    "# get the transcript of the video based on the unique ID\n",
    "sub = YouTubeTranscriptApi.get_transcript(unique_id)  \n",
    "# get only the \"text\" parts and join them together, ignoring others like \"duration\"\n",
    "subtitle = \" \".join([x['text'] for x in sub])"
   ]
  },
  {
   "cell_type": "code",
   "execution_count": 48,
   "metadata": {},
   "outputs": [
    {
     "name": "stdout",
     "output_type": "stream",
     "text": [
      "In this video, I'm going to answer the top 3 questions my students ask me about Python. What is Python? What  can you do with it? And why is it so popular? In other words, what does it do that other programming languages don't? Python is the  world's fastest growing and most popular programming language, not just  amongst software engineers, but also amongst mathematicians,  data analysts, scientists, accountants, networking engineers, and even kids! Because it's a very beginner friendly programming  language. So people from different disciplines use Python for a variety of different tasks, such as data analysis and visualization,  artificial intelligence and machine learning, automation  in fact this is one of the big uses of Python amongst people who are not software developers. If you constantly have to do boring, repetitive  tasks, such as copying files and folders around, renaming them,  uploading them to a server, you can easily write a Python script to automate all that and save your time. And that's just one example, if you continuously have to work with excel spreadsheets, PDF's, CS View files, download websites and parse them, you can automate all that stuff with Python. So you don't have to be a software developer to use Python. You could be an accountant, a mathematician, or a scientist, and use Python  to make your life easier. You can also use Python to build  web, mobile and desktop applications as well as software  testing or even hacking. So Python is a multi purpose language.  Now if you have some programming experience you may say, \"But Mosh we can do all this stuff with other programming languages, so what's the big deal  about Python?\" Here are a few reasons. With Python you can  solve complex problems in less time with fewer lines of code.  Here's an example. Let's say we want to extract the first three  letters of the text Hello World. This is the code we have to write  in C# this is how we do it in JavaScript and here's how we  do it in Python. See how short and clean the language is? And that's just the beginning. Python makes a lot of trivial things really easy with a simple yet powerful syntax. Here are a few other reasons Python is so popular. It's a high level language so you don't have to worry about complex tasks such as memory management,  like you do in C++. It's cross platform which means  you can build and run Python applications on Windows, Mac,  and Linux. It has a huge community so whenever you get  stuck, there is someone out there to help. It has a large ecosystem  of libraries, frameworks and tools which means whatever you wanna do it is likely that someone else has done it before because Python has been around  for over 20 years. So in a nutshell, Python is a multi-purpose language with a simple, clean, and beginner-friendly  syntax. All of that means Python is awesome. Technically everything you do with Python you can do with other programming languages,  but Python's simplicity and elegance has made it grow way  more than other programming languages. That's why it's the number onne language employers are looking for. So whether you're a programmer or  an absolute beginner, learning Python opens up lots of job opportunities  to you. In fact, the average Python developer earns a whopping 116,000 dollars a year. If you found this video helpful, please support my hard work by liking and sharing it with others.  Also, be sure to subscribe to my channel, because I have a couple of awesome Python tutorials for you, you're going to see them on the screen now.  Here's my Python tutorial for beginners, it's a great starting point if you  have limited or no programming experience. On the other hand, if you  do have some programming experience and want to quickly get up to speed with Python,  I have another tutorial just for you. I'm not going to waste your time  telling you what a variable or a function is. I will talk to you like a programmer. There's never been a better time to master Python programming, so click on the tutorial that is right for you and get started. Thank you for watching!\n",
      "'In this video, I\\'m going to answer the top 3 questions my students ask me about Python. What is Python? What  can you do with it? And why is it so popular? In other words, what does it do that other programming languages don\\'t? Python is the  world\\'s fastest growing and most popular programming language, not just  amongst software engineers, but also amongst mathematicians,  data analysts, scientists, accountants, networking engineers, and even kids! Because it\\'s a very beginner friendly programming  language. So people from different disciplines use Python for a variety of different tasks, such as data analysis and visualization,  artificial intelligence and machine learning, automation  in fact this is one of the big uses of Python amongst people who are not software developers. If you constantly have to do boring, repetitive  tasks, such as copying files and folders around, renaming them,  uploading them to a server, you can easily write a Python script to automate all that and save your time. And that\\'s just one example, if you continuously have to work with excel spreadsheets, PDF\\'s, CS View files, download websites and parse them, you can automate all that stuff with Python. So you don\\'t have to be a software developer to use Python. You could be an accountant, a mathematician, or a scientist, and use Python  to make your life easier. You can also use Python to build  web, mobile and desktop applications as well as software  testing or even hacking. So Python is a multi purpose language.  Now if you have some programming experience you may say, \"But Mosh we can do all this stuff with other programming languages, so what\\'s the big deal  about Python?\" Here are a few reasons. With Python you can  solve complex problems in less time with fewer lines of code.  Here\\'s an example. Let\\'s say we want to extract the first three  letters of the text Hello World. This is the code we have to write  in C# this is how we do it in JavaScript and here\\'s how we  do it in Python. See how short and clean the language is? And that\\'s just the beginning. Python makes a lot of trivial things really easy with a simple yet powerful syntax. Here are a few other reasons Python is so popular. It\\'s a high level language so you don\\'t have to worry about complex tasks such as memory management,  like you do in C++. It\\'s cross platform which means  you can build and run Python applications on Windows, Mac,  and Linux. It has a huge community so whenever you get  stuck, there is someone out there to help. It has a large ecosystem  of libraries, frameworks and tools which means whatever you wanna do it is likely that someone else has done it before because Python has been around  for over 20 years. So in a nutshell, Python is a multi-purpose language with a simple, clean, and beginner-friendly  syntax. All of that means Python is awesome. Technically everything you do with Python you can do with other programming languages,  but Python\\'s simplicity and elegance has made it grow way  more than other programming languages. That\\'s why it\\'s the number onne language employers are looking for. So whether you\\'re a programmer or  an absolute beginner, learning Python opens up lots of job opportunities  to you. In fact, the average Python developer earns a whopping 116,000 dollars a year. If you found this video helpful, please support my hard work by liking and sharing it with others.  Also, be sure to subscribe to my channel, because I have a couple of awesome Python tutorials for you, you\\'re going to see them on the screen now.  Here\\'s my Python tutorial for beginners, it\\'s a great starting point if you  have limited or no programming experience. On the other hand, if you  do have some programming experience and want to quickly get up to speed with Python,  I have another tutorial just for you. I\\'m not going to waste your time  telling you what a variable or a function is. I will talk to you like a programmer. There\\'s never been a better time to master Python programming, so click on the tutorial that is right for you and get started. Thank you for watching!'\n"
     ]
    }
   ],
   "source": [
    "print(subtitle)\n",
    "print(repr(subtitle))  # This will display the raw text with all special characters"
   ]
  },
  {
   "cell_type": "code",
   "execution_count": 52,
   "metadata": {},
   "outputs": [],
   "source": [
    "subtitle = subtitle.replace(\"\\\\\", \"\")\n",
    "sentences = sent_tokenize(subtitle)\n",
    "#print(sentences)\n",
    "organized_sent = {k:v for v,k in enumerate(sentences)}\n",
    "tf_idf = TfidfVectorizer(min_df=2, \n",
    "                                    strip_accents='unicode',\n",
    "                                    max_features=None,\n",
    "                                    lowercase = True,\n",
    "                                    token_pattern=r'w{1,}',\n",
    "                                    ngram_range=(1, 3), \n",
    "                                    use_idf=True,\n",
    "                                    smooth_idf=True,\n",
    "                                    sublinear_tf=True,\n",
    "                                    stop_words = 'english')\n",
    "\n",
    "sentence_vectors = tf_idf.fit_transform(sentences)\n",
    "sent_scores = np.array(sentence_vectors.sum(axis=1)).ravel()\n"
   ]
  },
  {
   "cell_type": "code",
   "execution_count": 53,
   "metadata": {},
   "outputs": [],
   "source": [
    "N = 3\n",
    "top_n_sentences = [sentences[index] for index in np.argsort(sent_scores, axis=0)[::-1][:N]]\n"
   ]
  },
  {
   "cell_type": "code",
   "execution_count": 54,
   "metadata": {},
   "outputs": [],
   "source": [
    "# mapping the scored sentences with their indexes as in the subtitle\n",
    "mapped_sentences = [(sentence,organized_sent[sentence]) for sentence in top_n_sentences]\n",
    "# Ordering the top-n sentences in their original order\n",
    "mapped_sentences = sorted(mapped_sentences, key = lambda x: x[1])\n",
    "ordered_sentences = [element[0] for element in mapped_sentences]\n",
    "# joining the ordered sentence\n",
    "summary = \" \".join(ordered_sentences)"
   ]
  },
  {
   "cell_type": "code",
   "execution_count": 55,
   "metadata": {},
   "outputs": [
    {
     "name": "stdout",
     "output_type": "stream",
     "text": [
      "You can also use Python to build  web, mobile and desktop applications as well as software  testing or even hacking. Let's say we want to extract the first three  letters of the text Hello World. It's cross platform which means  you can build and run Python applications on Windows, Mac,  and Linux.\n"
     ]
    }
   ],
   "source": [
    "print(summary)"
   ]
  }
 ],
 "metadata": {
  "kernelspec": {
   "display_name": "Python summary",
   "language": "python",
   "name": "youtubesummarizer"
  },
  "language_info": {
   "codemirror_mode": {
    "name": "ipython",
    "version": 3
   },
   "file_extension": ".py",
   "mimetype": "text/x-python",
   "name": "python",
   "nbconvert_exporter": "python",
   "pygments_lexer": "ipython3",
   "version": "3.11.5"
  }
 },
 "nbformat": 4,
 "nbformat_minor": 2
}
